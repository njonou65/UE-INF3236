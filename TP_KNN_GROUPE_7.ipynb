{
  "cells": [
    {
      "cell_type": "markdown",
      "source": [
        "# **PREDICTION  DES SPAMS AVEC K-NN**\n",
        "\n"
      ],
      "metadata": {
        "id": "k5r5B2FG6fAm"
      },
      "id": "k5r5B2FG6fAm"
    },
    {
      "cell_type": "code",
      "source": [
        "from google.colab import drive\n",
        "drive.mount('/content/drive')"
      ],
      "metadata": {
        "colab": {
          "base_uri": "https://localhost:8080/"
        },
        "id": "zS0LQ15s7puI",
        "outputId": "b3c1171f-68ce-4bfe-dc7a-f41c003d2481"
      },
      "id": "zS0LQ15s7puI",
      "execution_count": 10,
      "outputs": [
        {
          "output_type": "stream",
          "name": "stdout",
          "text": [
            "Mounted at /content/drive\n"
          ]
        }
      ]
    },
    {
      "cell_type": "code",
      "source": [
        "%cd /content/drive/MyDrive/github/UE-INF3236/"
      ],
      "metadata": {
        "colab": {
          "base_uri": "https://localhost:8080/"
        },
        "id": "DtHyJWZQ77Va",
        "outputId": "ed2fdaef-1c70-4059-9a6f-bdd63200b213"
      },
      "id": "DtHyJWZQ77Va",
      "execution_count": 14,
      "outputs": [
        {
          "output_type": "stream",
          "name": "stdout",
          "text": [
            "/content/drive/MyDrive/github/UE-INF3236\n"
          ]
        }
      ]
    },
    {
      "cell_type": "markdown",
      "source": [
        "#### Groupe 7 \n",
        "    ####-NJONOU GABY 19M2347\n",
        "    #### -MOUASSOM FERNAND 12W0902\n",
        "    #### -FONE SIMO MERLIN 19M2382\n",
        "    #### -EVINA KENNE RANDY  19M2456"
      ],
      "metadata": {
        "id": "adnpeHqU6Xce"
      },
      "id": "adnpeHqU6Xce"
    },
    {
      "cell_type": "code",
      "execution_count": 1,
      "id": "46a456e8",
      "metadata": {
        "id": "46a456e8"
      },
      "outputs": [],
      "source": [
        "import os\n",
        "import string\n",
        "from nltk.corpus import stopwords\n",
        "from sklearn.model_selection import train_test_split\n",
        "from sklearn.metrics import accuracy_score\n",
        "import numpy as np"
      ]
    },
    {
      "cell_type": "markdown",
      "id": "edfff66e",
      "metadata": {
        "id": "edfff66e"
      },
      "source": [
        "# 1.chargement des donnees"
      ]
    },
    {
      "cell_type": "code",
      "execution_count": 20,
      "id": "48ea5888",
      "metadata": {
        "id": "48ea5888"
      },
      "outputs": [],
      "source": [
        "#Chargement des donnes\n",
        "\n",
        "def load_data():\n",
        "    print(\"Loading data...\")\n",
        "    \n",
        "    ham_files_location = os.listdir(path=\"enron2/ham/\")\n",
        "    spam_files_location = os.listdir(path=\"enron2/spam/\")\n",
        "    data = []\n",
        "    \n",
        "# Charger l'email ham\n",
        "    for file_path in ham_files_location:\n",
        "        f = open(\"enron2/ham/\" + file_path, \"r\")\n",
        "        text = str(f.read())\n",
        "        data.append([text, \"ham\"])\n",
        "        \n",
        "    # charger email spam\n",
        "    for file_path in spam_files_location:\n",
        "        f = open(\"enron2/spam/\" + file_path, \"r\")\n",
        "        text = str(f.read())\n",
        "        data.append([text, \"spam\"])\n",
        "        data = np.array(data)\n",
        "        print(\"flag 1: loaded data\")\n",
        "    return data"
      ]
    },
    {
      "cell_type": "markdown",
      "id": "8381c162",
      "metadata": {
        "id": "8381c162"
      },
      "source": [
        "# 2.pretraitement"
      ]
    },
    {
      "cell_type": "code",
      "execution_count": 21,
      "id": "ea76f13f",
      "metadata": {
        "id": "ea76f13f"
      },
      "outputs": [],
      "source": [
        "\n",
        "def preprocess_data(data):\n",
        "    print(\"Preprocessing data...\")\n",
        "    \n",
        "    punc = string.punctuation           \n",
        "    sw = stopwords.words('english')     \n",
        "\n",
        "    for record in data:\n",
        "        \n",
        "        for item in punc:\n",
        "            record[0] = record[0].replace(item, \"\")\n",
        "            \n",
        "            splittedWords = record[0].split()\n",
        "            newText = \"\"\n",
        "            for word in splittedWords:\n",
        "                if word not in sw:\n",
        "                    word = word.lower()\n",
        "                    newText = newText + \" \" + word  \n",
        "            record[0] = newText\n",
        "        \n",
        "    print(\"flag 2: preprocessed data\")        \n",
        "    return data\n",
        "            "
      ]
    },
    {
      "cell_type": "code",
      "execution_count": 22,
      "id": "ec6c5d60",
      "metadata": {
        "id": "ec6c5d60"
      },
      "outputs": [],
      "source": [
        "\n",
        "def split_data(data):\n",
        "    print(\"Splitting data...\")\n",
        "    \n",
        "    features = data[:, 0]   \n",
        "    labels = data[:, 1]     \n",
        "    print(labels)\n",
        "    training_data, test_data, training_labels, test_labels =\\\n",
        "        train_test_split(features, labels, test_size = 0.27, random_state = 42)\n",
        "    \n",
        "    print(\"flag 3: splitted data\")\n",
        "    return training_data, test_data, training_labels, test_labels"
      ]
    },
    {
      "cell_type": "markdown",
      "id": "62a57f07",
      "metadata": {
        "id": "62a57f07"
      },
      "source": [
        "# 3.Algorithme KNN"
      ]
    },
    {
      "cell_type": "code",
      "execution_count": 23,
      "id": "0602a80e",
      "metadata": {
        "id": "0602a80e"
      },
      "outputs": [],
      "source": [
        "def get_count(text):\n",
        "    wordCounts = dict()\n",
        "    for word in text.split():\n",
        "        if word in wordCounts:\n",
        "            wordCounts[word] += 1\n",
        "        else:\n",
        "            wordCounts[word] = 1\n",
        "    \n",
        "    return wordCounts"
      ]
    },
    {
      "cell_type": "code",
      "execution_count": 24,
      "id": "cf730500",
      "metadata": {
        "id": "cf730500"
      },
      "outputs": [],
      "source": [
        "#euclidean_difference() function\n",
        "def euclidean_difference(test_WordCounts, training_WordCounts):\n",
        "    total = 0\n",
        "    for word in test_WordCounts:\n",
        "        if word in test_WordCounts and word in training_WordCounts:\n",
        "            total += (test_WordCounts[word] - training_WordCounts[word])**2\n",
        "            del training_WordCounts[word]\n",
        "        else: \n",
        "            total += test_WordCounts[word]**2\n",
        "        for word in training_WordCounts:\n",
        "            total += training_WordCounts[word]**2\n",
        "        return total**0.5"
      ]
    },
    {
      "cell_type": "code",
      "execution_count": 25,
      "id": "a8b5d1c1",
      "metadata": {
        "id": "a8b5d1c1"
      },
      "outputs": [],
      "source": [
        "#get_class() function\n",
        "def get_class(selected_Kvalues):\n",
        "    spam_count = 0\n",
        "    ham_count = 0\n",
        "    for value in selected_Kvalues:\n",
        "        if value[0] == \"spam\":\n",
        "            spam_count += 1\n",
        "        else:\n",
        "            ham_count += 1\n",
        "            if spam_count > ham_count:\n",
        "                return \"spam\"\n",
        "            else:\n",
        "                return \"ham\"\n",
        "            "
      ]
    },
    {
      "cell_type": "code",
      "execution_count": 31,
      "id": "118b86fa",
      "metadata": {
        "id": "118b86fa"
      },
      "outputs": [],
      "source": [
        ""
      ]
    },
    {
      "cell_type": "code",
      "execution_count": 31,
      "id": "809188cd",
      "metadata": {
        "id": "809188cd"
      },
      "outputs": [],
      "source": [
        "#main() function\n",
        "def main(K):\n",
        "    data = load_data()\n",
        "    data = preprocess_data(data)\n",
        "    training_data, test_data, training_labels, test_labels = split_data(data)\n",
        "    tsize = len(test_data)\n",
        "    result = knn_classifier(training_data, training_labels, test_data[:tsize], K, tsize) \n",
        "    accuracy = accuracy_score(test_labels[:tsize], result)\n",
        "    print(\"training data size\\t: \" + str(len(training_data)))\n",
        "    print(\"test data size\\t\\t: \" + str(len(test_data)))\n",
        "    print(\"K value\\t\\t\\t\\t: \" + str(K))\n",
        "    print(\"Samples tested\\t\\t: \" + str(tsize))\n",
        "    print(\"% accuracy\\t\\t\\t: \" + str(accuracy * 100))\n",
        "    print(\"Number correct\\t\\t: \" + str(int(accuracy * tsize)))\n",
        "    print(\"Number wrong\\t\\t: \" + str(int((1 - accuracy) * tsize)))\n",
        "main(11)"
      ]
    },
    {
      "cell_type": "code",
      "execution_count": null,
      "id": "d7947abd",
      "metadata": {
        "id": "d7947abd"
      },
      "outputs": [],
      "source": [
        ""
      ]
    }
  ],
  "metadata": {
    "kernelspec": {
      "display_name": "Python 3 (ipykernel)",
      "language": "python",
      "name": "python3"
    },
    "language_info": {
      "codemirror_mode": {
        "name": "ipython",
        "version": 3
      },
      "file_extension": ".py",
      "mimetype": "text/x-python",
      "name": "python",
      "nbconvert_exporter": "python",
      "pygments_lexer": "ipython3",
      "version": "3.8.10"
    },
    "colab": {
      "name": "TP-KNN_GROUPE_7.ipynb",
      "provenance": [],
      "collapsed_sections": []
    }
  },
  "nbformat": 4,
  "nbformat_minor": 5
}